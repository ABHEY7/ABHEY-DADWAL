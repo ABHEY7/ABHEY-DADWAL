{
 "cells": [
  {
   "cell_type": "code",
   "execution_count": 153,
   "id": "b2f3d4a0",
   "metadata": {},
   "outputs": [],
   "source": [
    "import pandas as pd \n",
    "import numpy as np \n",
    "import seaborn as sns\n",
    "import matplotlib.pyplot as plt"
   ]
  },
  {
   "cell_type": "code",
   "execution_count": 235,
   "id": "00cb5fc0",
   "metadata": {},
   "outputs": [
    {
     "data": {
      "text/html": [
       "<div>\n",
       "<style scoped>\n",
       "    .dataframe tbody tr th:only-of-type {\n",
       "        vertical-align: middle;\n",
       "    }\n",
       "\n",
       "    .dataframe tbody tr th {\n",
       "        vertical-align: top;\n",
       "    }\n",
       "\n",
       "    .dataframe thead th {\n",
       "        text-align: right;\n",
       "    }\n",
       "</style>\n",
       "<table border=\"1\" class=\"dataframe\">\n",
       "  <thead>\n",
       "    <tr style=\"text-align: right;\">\n",
       "      <th></th>\n",
       "      <th>user_id</th>\n",
       "      <th>timestamp</th>\n",
       "      <th>action</th>\n",
       "    </tr>\n",
       "  </thead>\n",
       "  <tbody>\n",
       "    <tr>\n",
       "      <th>0</th>\n",
       "      <td>1</td>\n",
       "      <td>2023-01-01 12:05:00</td>\n",
       "      <td>like</td>\n",
       "    </tr>\n",
       "    <tr>\n",
       "      <th>1</th>\n",
       "      <td>2</td>\n",
       "      <td>2023-01-01 12:10:30</td>\n",
       "      <td>comment</td>\n",
       "    </tr>\n",
       "    <tr>\n",
       "      <th>2</th>\n",
       "      <td>3</td>\n",
       "      <td>2023-01-01 12:15:45</td>\n",
       "      <td>share</td>\n",
       "    </tr>\n",
       "    <tr>\n",
       "      <th>3</th>\n",
       "      <td>1</td>\n",
       "      <td>2023-01-01 12:20:15</td>\n",
       "      <td>like</td>\n",
       "    </tr>\n",
       "    <tr>\n",
       "      <th>4</th>\n",
       "      <td>2</td>\n",
       "      <td>2023-01-01 12:25:40</td>\n",
       "      <td>comment</td>\n",
       "    </tr>\n",
       "  </tbody>\n",
       "</table>\n",
       "</div>"
      ],
      "text/plain": [
       "   user_id            timestamp   action\n",
       "0        1  2023-01-01 12:05:00     like\n",
       "1        2  2023-01-01 12:10:30  comment\n",
       "2        3  2023-01-01 12:15:45    share\n",
       "3        1  2023-01-01 12:20:15     like\n",
       "4        2  2023-01-01 12:25:40  comment"
      ]
     },
     "execution_count": 235,
     "metadata": {},
     "output_type": "execute_result"
    }
   ],
   "source": [
    "df=pd.read_csv('test_2_dataset.csv')\n",
    "df.head()"
   ]
  },
  {
   "cell_type": "code",
   "execution_count": 155,
   "id": "7545a064",
   "metadata": {},
   "outputs": [
    {
     "data": {
      "text/html": [
       "<div>\n",
       "<style scoped>\n",
       "    .dataframe tbody tr th:only-of-type {\n",
       "        vertical-align: middle;\n",
       "    }\n",
       "\n",
       "    .dataframe tbody tr th {\n",
       "        vertical-align: top;\n",
       "    }\n",
       "\n",
       "    .dataframe thead th {\n",
       "        text-align: right;\n",
       "    }\n",
       "</style>\n",
       "<table border=\"1\" class=\"dataframe\">\n",
       "  <thead>\n",
       "    <tr style=\"text-align: right;\">\n",
       "      <th></th>\n",
       "      <th>user_id</th>\n",
       "    </tr>\n",
       "  </thead>\n",
       "  <tbody>\n",
       "    <tr>\n",
       "      <th>count</th>\n",
       "      <td>98.000000</td>\n",
       "    </tr>\n",
       "    <tr>\n",
       "      <th>mean</th>\n",
       "      <td>22.295918</td>\n",
       "    </tr>\n",
       "    <tr>\n",
       "      <th>std</th>\n",
       "      <td>12.610918</td>\n",
       "    </tr>\n",
       "    <tr>\n",
       "      <th>min</th>\n",
       "      <td>1.000000</td>\n",
       "    </tr>\n",
       "    <tr>\n",
       "      <th>25%</th>\n",
       "      <td>11.250000</td>\n",
       "    </tr>\n",
       "    <tr>\n",
       "      <th>50%</th>\n",
       "      <td>23.000000</td>\n",
       "    </tr>\n",
       "    <tr>\n",
       "      <th>75%</th>\n",
       "      <td>34.000000</td>\n",
       "    </tr>\n",
       "    <tr>\n",
       "      <th>max</th>\n",
       "      <td>42.000000</td>\n",
       "    </tr>\n",
       "  </tbody>\n",
       "</table>\n",
       "</div>"
      ],
      "text/plain": [
       "         user_id\n",
       "count  98.000000\n",
       "mean   22.295918\n",
       "std    12.610918\n",
       "min     1.000000\n",
       "25%    11.250000\n",
       "50%    23.000000\n",
       "75%    34.000000\n",
       "max    42.000000"
      ]
     },
     "execution_count": 155,
     "metadata": {},
     "output_type": "execute_result"
    }
   ],
   "source": [
    "df.describe()"
   ]
  },
  {
   "cell_type": "code",
   "execution_count": 156,
   "id": "ca9f8c2e",
   "metadata": {},
   "outputs": [
    {
     "name": "stdout",
     "output_type": "stream",
     "text": [
      "<class 'pandas.core.frame.DataFrame'>\n",
      "RangeIndex: 98 entries, 0 to 97\n",
      "Data columns (total 3 columns):\n",
      " #   Column     Non-Null Count  Dtype \n",
      "---  ------     --------------  ----- \n",
      " 0   user_id    98 non-null     int64 \n",
      " 1   timestamp  97 non-null     object\n",
      " 2   action     98 non-null     object\n",
      "dtypes: int64(1), object(2)\n",
      "memory usage: 2.4+ KB\n"
     ]
    }
   ],
   "source": [
    "df.info()"
   ]
  },
  {
   "cell_type": "markdown",
   "id": "733d36e8",
   "metadata": {},
   "source": [
    "# data cleaning"
   ]
  },
  {
   "cell_type": "code",
   "execution_count": 157,
   "id": "15c93a01",
   "metadata": {},
   "outputs": [
    {
     "data": {
      "text/plain": [
       "user_id      False\n",
       "timestamp     True\n",
       "action       False\n",
       "dtype: bool"
      ]
     },
     "execution_count": 157,
     "metadata": {},
     "output_type": "execute_result"
    }
   ],
   "source": [
    "df.isnull().any()"
   ]
  },
  {
   "cell_type": "code",
   "execution_count": 158,
   "id": "8d33cd01",
   "metadata": {},
   "outputs": [
    {
     "data": {
      "text/plain": [
       "user_id      0\n",
       "timestamp    1\n",
       "action       0\n",
       "dtype: int64"
      ]
     },
     "execution_count": 158,
     "metadata": {},
     "output_type": "execute_result"
    }
   ],
   "source": [
    "df.isnull().sum()"
   ]
  },
  {
   "cell_type": "code",
   "execution_count": 159,
   "id": "f017fcb7",
   "metadata": {},
   "outputs": [],
   "source": [
    "df.dropna(inplace=True)"
   ]
  },
  {
   "cell_type": "code",
   "execution_count": 160,
   "id": "04341d13",
   "metadata": {},
   "outputs": [
    {
     "data": {
      "text/plain": [
       "user_id      False\n",
       "timestamp    False\n",
       "action       False\n",
       "dtype: bool"
      ]
     },
     "execution_count": 160,
     "metadata": {},
     "output_type": "execute_result"
    }
   ],
   "source": [
    "df.isnull().any()"
   ]
  },
  {
   "cell_type": "code",
   "execution_count": 161,
   "id": "32e8e402",
   "metadata": {},
   "outputs": [
    {
     "data": {
      "text/plain": [
       "True"
      ]
     },
     "execution_count": 161,
     "metadata": {},
     "output_type": "execute_result"
    }
   ],
   "source": [
    "df.duplicated().any()"
   ]
  },
  {
   "cell_type": "code",
   "execution_count": 162,
   "id": "34c7779c",
   "metadata": {},
   "outputs": [
    {
     "data": {
      "text/plain": [
       "(97, 3)"
      ]
     },
     "execution_count": 162,
     "metadata": {},
     "output_type": "execute_result"
    }
   ],
   "source": [
    "df.shape"
   ]
  },
  {
   "cell_type": "markdown",
   "id": "2ee0ebb7",
   "metadata": {},
   "source": [
    "## ----------------------------------------------------------------------------------------------------------------------------------"
   ]
  },
  {
   "cell_type": "markdown",
   "id": "b144d0c8",
   "metadata": {},
   "source": [
    "# Q1-calculate the total number of actions performed by each user"
   ]
  },
  {
   "cell_type": "code",
   "execution_count": 226,
   "id": "4e002c08",
   "metadata": {},
   "outputs": [
    {
     "data": {
      "text/plain": [
       "user_id\n",
       "1     3\n",
       "2     3\n",
       "3     3\n",
       "4     2\n",
       "5     2\n",
       "6     2\n",
       "7     2\n",
       "8     2\n",
       "9     2\n",
       "10    2\n",
       "11    2\n",
       "12    2\n",
       "13    2\n",
       "14    2\n",
       "15    2\n",
       "16    2\n",
       "17    2\n",
       "18    2\n",
       "19    2\n",
       "20    2\n",
       "21    2\n",
       "22    2\n",
       "23    4\n",
       "24    2\n",
       "25    2\n",
       "26    2\n",
       "27    2\n",
       "28    2\n",
       "29    2\n",
       "30    2\n",
       "31    2\n",
       "32    2\n",
       "33    2\n",
       "34    3\n",
       "35    4\n",
       "36    4\n",
       "37    4\n",
       "38    2\n",
       "39    3\n",
       "40    2\n",
       "41    2\n",
       "42    2\n",
       "Name: action, dtype: int64"
      ]
     },
     "execution_count": 226,
     "metadata": {},
     "output_type": "execute_result"
    }
   ],
   "source": [
    "ot=df.groupby('user_id')['action'].count()\n",
    "ot"
   ]
  },
  {
   "cell_type": "code",
   "execution_count": 227,
   "id": "006f96bd",
   "metadata": {},
   "outputs": [
    {
     "data": {
      "text/plain": [
       "Index([ 1,  2,  3,  4,  5,  6,  7,  8,  9, 10, 11, 12, 13, 14, 15, 16, 17, 18,\n",
       "       19, 20, 21, 22, 23, 24, 25, 26, 27, 28, 29, 30, 31, 32, 33, 34, 35, 36,\n",
       "       37, 38, 39, 40, 41, 42],\n",
       "      dtype='int64', name='user_id')"
      ]
     },
     "execution_count": 227,
     "metadata": {},
     "output_type": "execute_result"
    }
   ],
   "source": [
    "s=ot.index\n",
    "s"
   ]
  },
  {
   "cell_type": "code",
   "execution_count": 228,
   "id": "a1d08270",
   "metadata": {},
   "outputs": [
    {
     "data": {
      "text/plain": [
       "array([3, 3, 3, 2, 2, 2, 2, 2, 2, 2, 2, 2, 2, 2, 2, 2, 2, 2, 2, 2, 2, 2,\n",
       "       4, 2, 2, 2, 2, 2, 2, 2, 2, 2, 2, 3, 4, 4, 4, 2, 3, 2, 2, 2],\n",
       "      dtype=int64)"
      ]
     },
     "execution_count": 228,
     "metadata": {},
     "output_type": "execute_result"
    }
   ],
   "source": [
    "ip=ot.values\n",
    "ip"
   ]
  },
  {
   "cell_type": "code",
   "execution_count": 234,
   "id": "b088860e",
   "metadata": {},
   "outputs": [
    {
     "data": {
      "text/plain": [
       "Text(0, 0.5, 'no.of actions')"
      ]
     },
     "execution_count": 234,
     "metadata": {},
     "output_type": "execute_result"
    },
    {
     "data": {
      "image/png": "[encoded data removed]",
      "text/plain": [
       "<Figure size 1600x500 with 1 Axes>"
      ]
     },
     "metadata": {},
     "output_type": "display_data"
    }
   ],
   "source": [
    "plt.figure(figsize=(16,5))\n",
    "ds=sns.barplot(x=s,y=ip)\n",
    "for i in ds.containers:\n",
    "    ds.bar_label(i)\n",
    "plt.title('action performed by each user',color='green')\n",
    "plt.ylabel('no.of actions')"
   ]
  },
  {
   "cell_type": "markdown",
   "id": "226fb41a",
   "metadata": {},
   "source": [
    "####  From the graph above graph, we observed all users actions"
   ]
  },
  {
   "cell_type": "markdown",
   "id": "95e7521d",
   "metadata": {},
   "source": [
    "## -------------------------------------------------------------------------------------------------------------------------------------"
   ]
  },
  {
   "cell_type": "markdown",
   "id": "5bc23696",
   "metadata": {},
   "source": [
    "#  Q2-determine the most common action perform by user"
   ]
  },
  {
   "cell_type": "code",
   "execution_count": 210,
   "id": "377f30ff",
   "metadata": {},
   "outputs": [
    {
     "data": {
      "text/plain": [
       "action \n",
       "share      33\n",
       "comment    32\n",
       "like       32\n",
       "Name: count, dtype: int64"
      ]
     },
     "execution_count": 210,
     "metadata": {},
     "output_type": "execute_result"
    }
   ],
   "source": [
    "ja=df.value_counts(['action'])\n",
    "ja"
   ]
  },
  {
   "cell_type": "code",
   "execution_count": 211,
   "id": "1f9f5e73",
   "metadata": {},
   "outputs": [
    {
     "data": {
      "text/plain": [
       "array([33, 32, 32], dtype=int64)"
      ]
     },
     "execution_count": 211,
     "metadata": {},
     "output_type": "execute_result"
    }
   ],
   "source": [
    "hg=ja.values\n",
    "hg"
   ]
  },
  {
   "cell_type": "code",
   "execution_count": 212,
   "id": "c01dd18c",
   "metadata": {},
   "outputs": [],
   "source": [
    "ge=['like','share','comment']"
   ]
  },
  {
   "cell_type": "code",
   "execution_count": 214,
   "id": "c5119a6d",
   "metadata": {},
   "outputs": [
    {
     "data": {
      "text/plain": [
       "Text(0.5, 1.0, 'most common action')"
      ]
     },
     "execution_count": 214,
     "metadata": {},
     "output_type": "execute_result"
    },
    {
     "data": {
      "image/png": "[encoded data removed]",
      "text/plain": [
       "<Figure size 1000x500 with 1 Axes>"
      ]
     },
     "metadata": {},
     "output_type": "display_data"
    }
   ],
   "source": [
    "plt.figure(figsize=(10,5))\n",
    "dq=sns.barplot(y=hg,x=ge)\n",
    "for i in dq.containers:\n",
    "    dq.bar_label(i)\n",
    "plt.title('most common action',color='red')"
   ]
  },
  {
   "cell_type": "markdown",
   "id": "1e0e3db3",
   "metadata": {},
   "source": [
    "#### from above answer we observed that the count of like is more then others"
   ]
  },
  {
   "cell_type": "markdown",
   "id": "178d13c9",
   "metadata": {},
   "source": [
    "## ----------------------------------------------------------------------------------------------------------------------------------"
   ]
  },
  {
   "cell_type": "markdown",
   "id": "633e26b5",
   "metadata": {},
   "source": [
    "# Q-3 identify the user who has the highest enagement (sum of all actions)"
   ]
  },
  {
   "cell_type": "code",
   "execution_count": 215,
   "id": "d0deaac8",
   "metadata": {},
   "outputs": [
    {
     "data": {
      "text/plain": [
       "user_id\n",
       "1    3\n",
       "2    3\n",
       "3    3\n",
       "4    2\n",
       "5    2\n",
       "Name: action, dtype: int64"
      ]
     },
     "execution_count": 215,
     "metadata": {},
     "output_type": "execute_result"
    }
   ],
   "source": [
    "p=df.groupby('user_id')['action'].count()\n",
    "p.head()"
   ]
  },
  {
   "cell_type": "code",
   "execution_count": 216,
   "id": "8fda5d3a",
   "metadata": {},
   "outputs": [
    {
     "data": {
      "text/plain": [
       "user_id\n",
       "37    4\n",
       "23    4\n",
       "35    4\n",
       "36    4\n",
       "1     3\n",
       "Name: action, dtype: int64"
      ]
     },
     "execution_count": 216,
     "metadata": {},
     "output_type": "execute_result"
    }
   ],
   "source": [
    "o=p.sort_values(ascending=False).head()\n",
    "o"
   ]
  },
  {
   "cell_type": "code",
   "execution_count": 217,
   "id": "8649a5f4",
   "metadata": {},
   "outputs": [
    {
     "data": {
      "text/plain": [
       "Index([37, 23, 35, 36, 1], dtype='int64', name='user_id')"
      ]
     },
     "execution_count": 217,
     "metadata": {},
     "output_type": "execute_result"
    }
   ],
   "source": [
    "g=o.index\n",
    "g"
   ]
  },
  {
   "cell_type": "code",
   "execution_count": 218,
   "id": "89176c48",
   "metadata": {},
   "outputs": [
    {
     "data": {
      "text/plain": [
       "array([4, 4, 4, 4, 3], dtype=int64)"
      ]
     },
     "execution_count": 218,
     "metadata": {},
     "output_type": "execute_result"
    }
   ],
   "source": [
    "f=o.values\n",
    "f"
   ]
  },
  {
   "cell_type": "code",
   "execution_count": 219,
   "id": "260d10d7",
   "metadata": {},
   "outputs": [
    {
     "data": {
      "image/png": "[encoded data removed]",
      "text/plain": [
       "<Figure size 1000x500 with 1 Axes>"
      ]
     },
     "metadata": {},
     "output_type": "display_data"
    }
   ],
   "source": [
    "plt.figure(figsize=(10,5))\n",
    "d=sns.barplot(x=g,y=f)\n",
    "for i in d.containers:\n",
    "    d.bar_label(i)"
   ]
  },
  {
   "cell_type": "markdown",
   "id": "503bddc5",
   "metadata": {},
   "source": [
    "#### From the above graph, we can observe that the user_id 37,23,35,36 has the highest engagement among all of them"
   ]
  },
  {
   "cell_type": "markdown",
   "id": "542a0003",
   "metadata": {},
   "source": [
    "## -----------------------------------------------------------------------------------------------------------------------------------"
   ]
  },
  {
   "cell_type": "markdown",
   "id": "5716787c",
   "metadata": {},
   "source": [
    "# Q4- provide statistics on user activity over time (eg,hourly,daily,or monthly trends) "
   ]
  },
  {
   "cell_type": "code",
   "execution_count": 188,
   "id": "6acb2266",
   "metadata": {},
   "outputs": [],
   "source": [
    "df['timestamp']=pd.to_datetime(df['timestamp'])"
   ]
  },
  {
   "cell_type": "code",
   "execution_count": 189,
   "id": "830715e4",
   "metadata": {},
   "outputs": [
    {
     "data": {
      "text/plain": [
       "timestamp\n",
       "12    11\n",
       "13    12\n",
       "14    13\n",
       "15    12\n",
       "16    12\n",
       "17    14\n",
       "18    17\n",
       "19     5\n",
       "20     1\n",
       "Name: user_id, dtype: int64"
      ]
     },
     "execution_count": 189,
     "metadata": {},
     "output_type": "execute_result"
    }
   ],
   "source": [
    "hourly=df.groupby(df['timestamp'].dt.hour)['user_id'].count()\n",
    "hourly"
   ]
  },
  {
   "cell_type": "code",
   "execution_count": 192,
   "id": "7de5ff53",
   "metadata": {},
   "outputs": [
    {
     "data": {
      "text/plain": [
       "Text(0.5, 0, 'Hours')"
      ]
     },
     "execution_count": 192,
     "metadata": {},
     "output_type": "execute_result"
    },
    {
     "data": {
      "text/plain": [
       "<Figure size 400x500 with 0 Axes>"
      ]
     },
     "metadata": {},
     "output_type": "display_data"
    },
    {
     "data": {
      "image/png": "[encoded data removed]",
      "text/plain": [
       "<Figure size 1000x500 with 1 Axes>"
      ]
     },
     "metadata": {},
     "output_type": "display_data"
    }
   ],
   "source": [
    "plt.figure(figsize=(4,5))\n",
    "plt.figure(figsize=(10,5))\n",
    "d=sns.barplot(x=hourly.index,y=hourly)\n",
    "for i in d.containers:\n",
    "    d.bar_label(i)\n",
    "plt.title('user action',color='blue')\n",
    "plt.ylabel('active users')\n",
    "plt.xlabel('Hours')\n",
    "\n"
   ]
  },
  {
   "cell_type": "markdown",
   "id": "0a710dc2",
   "metadata": {},
   "source": [
    "#### from the above graph we can statistics on user activity over time "
   ]
  },
  {
   "cell_type": "code",
   "execution_count": null,
   "id": "0daa6449",
   "metadata": {},
   "outputs": [],
   "source": []
  },
  {
   "cell_type": "code",
   "execution_count": null,
   "id": "b6e20785",
   "metadata": {},
   "outputs": [],
   "source": []
  }
 ],
 "metadata": {
  "kernelspec": {
   "display_name": "Python 3 (ipykernel)",
   "language": "python",
   "name": "python3"
  },
  "language_info": {
   "codemirror_mode": {
    "name": "ipython",
    "version": 3
   },
   "file_extension": ".py",
   "mimetype": "text/x-python",
   "name": "python",
   "nbconvert_exporter": "python",
   "pygments_lexer": "ipython3",
   "version": "3.11.4"
  }
 },
 "nbformat": 4,
 "nbformat_minor": 5
}
